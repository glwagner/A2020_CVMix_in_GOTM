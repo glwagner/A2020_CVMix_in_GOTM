{
 "cells": [
  {
   "cell_type": "markdown",
   "metadata": {},
   "source": [
    "# FLEX\n",
    "\n",
    "This notebook runs [GOTM](https://gotm.net/) using the [FLEX](https://gotm.net/cases/flex/) test case.\n",
    "\n",
    "Run the case with four turbulence closure schemes:\n",
    "\n",
    "- GLS-C01A: The generic length scale ([Umlauf and Burchard, 2003](https://doi.org/10.1357/002224003322005087)) model in the $k$-$\\epsilon$ formulation with the weak-equilibrium stability function by [Canuto et al., 2001](https://doi.org/10.1175/1520-0485(2001)031%3C1413:OTPIOP%3E2.0.CO;2) (C01A).\n",
    "\n",
    "- Three variants of KPP via [CVMix](http://cvmix.github.io):\n",
    "    - KPP-CVMix ([Large et al., 1994](https://doi.org/10.1029/94RG01872), [Griffies et al., 2015](https://github.com/CVMix/CVMix-description/raw/master/cvmix.pdf))\n",
    "    - KPPLT-VR12 ([Li et al., 2016](https://doi.org/10.1016%2Fj.ocemod.2015.07.020))\n",
    "    - KPPLT-LF17 ([Li and Fox-Kemper, 2017](https://doi.org/10.1175%2FJPO-D-17-0085.1))\n",
    "    \n",
    "Estimate the Stokes drift from the wind following [Li et al., 2017](https://doi.org/10.1016/j.ocemod.2017.03.016)."
   ]
  },
  {
   "cell_type": "code",
   "execution_count": 1,
   "metadata": {},
   "outputs": [],
   "source": [
    "import sys\n",
    "import copy\n",
    "import numpy as np\n",
    "import matplotlib.pyplot as plt\n",
    "# add the path of gotmtool\n",
    "sys.path.append(\"../gotmtool\")\n",
    "from gotmtool import *"
   ]
  },
  {
   "cell_type": "markdown",
   "metadata": {},
   "source": [
    "## Create a model\n",
    "Create a model with environment file `../../.gotm_env.yaml`, which is created by `gotm_env_init.py`. "
   ]
  },
  {
   "cell_type": "code",
   "execution_count": 2,
   "metadata": {},
   "outputs": [],
   "source": [
    "m = Model(name='FLEX', environ='../gotmtool/.gotm_env.yaml')"
   ]
  },
  {
   "cell_type": "markdown",
   "metadata": {},
   "source": [
    "Take a look at what are defined in the environment file."
   ]
  },
  {
   "cell_type": "code",
   "execution_count": 3,
   "metadata": {},
   "outputs": [
    {
     "name": "stdout",
     "output_type": "stream",
     "text": [
      "   gotmdir_code: /Users/qingli/work/cvmix_in_gotm/gotm/code\n",
      "   gotmdir_data: /Users/qingli/work/cvmix_in_gotm/gotm/data\n",
      "  gotmdir_build: /Users/qingli/work/cvmix_in_gotm/gotm/build\n",
      "    gotmdir_exe: /Users/qingli/work/cvmix_in_gotm/gotm/exe\n",
      "    gotmdir_run: /Users/qingli/work/cvmix_in_gotm/gotm/run\n",
      " gotmdir_figure: /Users/qingli/work/cvmix_in_gotm/gotm/figure\n",
      "   gotmdir_tool: /Users/qingli/work/cvmix_in_gotm/gotmtool\n"
     ]
    }
   ],
   "source": [
    "for key in m.environ:\n",
    "    print('{:>15s}: {}'.format(key, m.environ[key]) )"
   ]
  },
  {
   "cell_type": "markdown",
   "metadata": {},
   "source": [
    "## Build the model"
   ]
  },
  {
   "cell_type": "code",
   "execution_count": 4,
   "metadata": {},
   "outputs": [
    {
     "name": "stdout",
     "output_type": "stream",
     "text": [
      "\u001b[94mWARNING: GOTM is updated. Skipping the build step. Use 'clean=True' to rebuild\u001b[0m\n",
      "CPU times: user 2.18 ms, sys: 8.15 ms, total: 10.3 ms\n",
      "Wall time: 157 ms\n"
     ]
    }
   ],
   "source": [
    "%%time\n",
    "m.build()"
   ]
  },
  {
   "cell_type": "markdown",
   "metadata": {},
   "source": [
    "## Configuration\n",
    "Initialize the GOTM configuration"
   ]
  },
  {
   "cell_type": "code",
   "execution_count": 5,
   "metadata": {},
   "outputs": [
    {
     "name": "stdout",
     "output_type": "stream",
     "text": [
      "Generating default configuration at '/Users/qingli/work/cvmix_in_gotm/gotm/run/FLEX1/gotm.yaml'...\n",
      "\u001b[92mDone!\u001b[0m\n"
     ]
    }
   ],
   "source": [
    "cfg = m.init_config()"
   ]
  },
  {
   "cell_type": "markdown",
   "metadata": {},
   "source": [
    "Update the configuration"
   ]
  },
  {
   "cell_type": "code",
   "execution_count": 6,
   "metadata": {},
   "outputs": [],
   "source": [
    "# setup\n",
    "title = 'FLEX'\n",
    "nlev = 145\n",
    "cfg['title'] = title\n",
    "cfg['location']['name'] = 'Flex Experiment 1976'\n",
    "cfg['location']['latitude'] = 58.92\n",
    "cfg['location']['longitude'] = 0.32\n",
    "cfg['location']['depth'] = 145.0\n",
    "cfg['time']['start'] = '1976-04-06 06:00:00'\n",
    "cfg['time']['stop']  = '1976-06-07 00:00:00'\n",
    "cfg['time']['dt']    = 360.0\n",
    "cfg['grid']['nlev']  = nlev\n",
    "cfg['grid']['ddu']  = 0.0\n",
    "cfg['grid']['ddl']  = 0.0\n",
    "\n",
    "# output\n",
    "cfg['output']['gotm_out']['title'] = title\n",
    "cfg['output']['gotm_out']['k1_stop'] = nlev+1\n",
    "cfg['output']['gotm_out']['k_stop'] = nlev\n",
    "cfg['output']['gotm_out']['time_unit'] = 'dt'\n",
    "cfg['output']['gotm_out']['time_step'] = 30\n",
    "\n",
    "# forcing\n",
    "datadir = m.environ['gotmdir_data']+'/FLEX'\n",
    "cfg['temperature']['method'] = 2\n",
    "cfg['temperature']['file'] = datadir+'/t_prof_file.dat'\n",
    "cfg['salinity']['method'] = 2\n",
    "cfg['salinity']['file'] = datadir+'/s_prof_file.dat'\n",
    "cfg['salinity']['relax']['tau'] = 172800.0\n",
    "cfg['salinity']['relax']['tau_s'] = 172800.0\n",
    "cfg['salinity']['relax']['tau_b'] = 172800.0\n",
    "cfg['surface']['fluxes']['method'] = 2\n",
    "cfg['surface']['fluxes']['heat']['method'] = 2\n",
    "cfg['surface']['fluxes']['heat']['file'] = datadir+'/heatflux_file.dat'\n",
    "cfg['surface']['fluxes']['tx']['method'] = 2\n",
    "cfg['surface']['fluxes']['tx']['file'] = datadir+'/momentumflux_file.dat'\n",
    "cfg['surface']['fluxes']['tx']['column'] = 1\n",
    "cfg['surface']['fluxes']['ty']['method'] = 2\n",
    "cfg['surface']['fluxes']['ty']['file'] = datadir+'/momentumflux_file.dat'\n",
    "cfg['surface']['fluxes']['ty']['column'] = 2\n",
    "cfg['surface']['meteo']['u10']['method'] = 2\n",
    "cfg['surface']['meteo']['u10']['file'] = datadir+'/meteo.dat'\n",
    "cfg['surface']['meteo']['u10']['column'] = 1\n",
    "cfg['surface']['meteo']['v10']['method'] = 2\n",
    "cfg['surface']['meteo']['v10']['file'] = datadir+'/meteo.dat'\n",
    "cfg['surface']['meteo']['v10']['column'] = 2\n",
    "cfg['surface']['meteo']['airp']['method'] = 2\n",
    "cfg['surface']['meteo']['airp']['file'] = datadir+'/meteo.dat'\n",
    "cfg['surface']['meteo']['airp']['column'] = 3\n",
    "cfg['surface']['meteo']['airp']['scale_factor'] = 100.0\n",
    "cfg['surface']['meteo']['airt']['method'] = 2\n",
    "cfg['surface']['meteo']['airt']['file'] = datadir+'/meteo.dat'\n",
    "cfg['surface']['meteo']['airt']['column'] = 4\n",
    "cfg['surface']['meteo']['hum']['method'] = 2\n",
    "cfg['surface']['meteo']['hum']['file'] = datadir+'/meteo.dat'\n",
    "cfg['surface']['meteo']['hum']['column'] = 5\n",
    "cfg['surface']['meteo']['hum']['type'] = 2\n",
    "cfg['surface']['meteo']['swr']['method'] = 2\n",
    "cfg['surface']['meteo']['swr']['file'] = datadir+'/swr_file.dat'\n",
    "cfg['surface']['longwave_radiation']['method'] = 0\n",
    "cfg['surface']['longwave_radiation']['file'] = datadir+'/lwr.dat'\n",
    "cfg['surface']['sst']['method'] = 2\n",
    "cfg['surface']['sst']['file'] = datadir+'/sst_file.dat'\n",
    "\n",
    "cfg['stokes_drift']['us']['method'] = 4\n",
    "cfg['stokes_drift']['vs']['method'] = 4\n",
    "cfg['stokes_drift']['empirical']['uwnd']['method'] = 2\n",
    "cfg['stokes_drift']['empirical']['uwnd']['file'] = datadir+'/meteo.dat'\n",
    "cfg['stokes_drift']['empirical']['uwnd']['column'] = 1\n",
    "cfg['stokes_drift']['empirical']['vwnd']['method'] = 2\n",
    "cfg['stokes_drift']['empirical']['vwnd']['file'] = datadir+'/meteo.dat'\n",
    "cfg['stokes_drift']['empirical']['vwnd']['column'] = 2\n",
    "\n",
    "# water type\n",
    "cfg['light_extinction']['method'] = 7\n",
    "cfg['light_extinction']['A']['method'] = 2\n",
    "cfg['light_extinction']['A']['file'] = datadir+'/extinct_file.dat'\n",
    "cfg['light_extinction']['A']['column'] = 1\n",
    "cfg['light_extinction']['g1']['method'] = 2\n",
    "cfg['light_extinction']['g1']['file'] = datadir+'/extinct_file.dat'\n",
    "cfg['light_extinction']['g1']['column'] = 2\n",
    "cfg['light_extinction']['g2']['method'] = 2\n",
    "cfg['light_extinction']['g2']['file'] = datadir+'/extinct_file.dat'\n",
    "cfg['light_extinction']['g2']['column'] = 3\n",
    "\n",
    "# tidal\n",
    "cfg['mimic_3d']['ext_pressure']['mode'] = 0\n",
    "cfg['mimic_3d']['ext_pressure']['dpdx']['method'] = 2\n",
    "cfg['mimic_3d']['ext_pressure']['dpdx']['file'] = datadir+'/ext_press_file.dat'\n",
    "cfg['mimic_3d']['ext_pressure']['dpdx']['column'] = 2\n",
    "cfg['mimic_3d']['ext_pressure']['dpdy']['method'] = 2\n",
    "cfg['mimic_3d']['ext_pressure']['dpdy']['file'] = datadir+'/ext_press_file.dat'\n",
    "cfg['mimic_3d']['ext_pressure']['dpdy']['column'] = 3\n",
    "cfg['mimic_3d']['ext_pressure']['h']['method'] = 2\n",
    "cfg['mimic_3d']['ext_pressure']['h']['file'] = datadir+'/ext_press_file.dat'\n",
    "cfg['mimic_3d']['ext_pressure']['h']['column'] = 1\n",
    "\n",
    "# EOS \n",
    "cfg['eq_state']['mode'] = 1\n",
    "cfg['eq_state']['method'] = 2\n",
    "\n",
    "# buoyancy\n",
    "cfg['buoyancy']['NN_ini'] = 1.0e-4\n"
   ]
  },
  {
   "cell_type": "markdown",
   "metadata": {},
   "source": [
    "## Run the model\n",
    "\n",
    "Set the configurations and labels for each run"
   ]
  },
  {
   "cell_type": "code",
   "execution_count": 7,
   "metadata": {},
   "outputs": [],
   "source": [
    "cfgs = []\n",
    "labels = []"
   ]
  },
  {
   "cell_type": "code",
   "execution_count": 8,
   "metadata": {},
   "outputs": [],
   "source": [
    "cfg['turbulence']['turb_method'] = 3\n",
    "cfg['turbulence']['tke_method'] = 2\n",
    "cfg['turbulence']['len_scale_method'] = 10\n",
    "cfg['turbulence']['scnd']['method'] =  2\n",
    "cfg['turbulence']['scnd']['scnd_coeff'] =  5\n",
    "cfg['turbulence']['turb_param']['length_lim'] = 'false'\n",
    "cfg['turbulence']['turb_param']['compute_c3'] = 'true'\n",
    "cfg['turbulence']['turb_param']['Ri_st'] = 0.25\n",
    "cfg['turbulence']['generic']['gen_m'] = 1.5 \n",
    "cfg['turbulence']['generic']['gen_n'] = -1.0\n",
    "cfg['turbulence']['generic']['gen_p'] = 3.0 \n",
    "cfg['turbulence']['generic']['cpsi1'] = 1.44\n",
    "cfg['turbulence']['generic']['cpsi2'] = 1.92\n",
    "cfg['turbulence']['generic']['cpsi3minus'] = -0.63\n",
    "cfg['turbulence']['generic']['cpsi3plus'] = 1.0 \n",
    "cfg['turbulence']['generic']['sig_kpsi'] = 1.0 \n",
    "cfg['turbulence']['generic']['sig_psi'] = 1.3\n",
    "cfgs.append(copy.deepcopy(cfg))\n",
    "labels.append('GLS-C01A_tidal')"
   ]
  },
  {
   "cell_type": "code",
   "execution_count": 9,
   "metadata": {},
   "outputs": [],
   "source": [
    "# turn tidal forcing off\n",
    "cfg['mimic_3d']['ext_pressure']['dpdx']['method'] = 0\n",
    "cfg['mimic_3d']['ext_pressure']['dpdy']['method'] = 0\n",
    "cfg['mimic_3d']['ext_pressure']['h']['method'] = 0\n",
    "cfgs.append(copy.deepcopy(cfg))\n",
    "labels.append('GLS-C01A')"
   ]
  },
  {
   "cell_type": "code",
   "execution_count": 10,
   "metadata": {},
   "outputs": [],
   "source": [
    "cfg['turbulence']['turb_method'] = 100\n",
    "cfgs.append(copy.deepcopy(cfg))\n",
    "labels.append('KPP-CVMix')"
   ]
  },
  {
   "cell_type": "code",
   "execution_count": 11,
   "metadata": {},
   "outputs": [],
   "source": [
    "cfg['cvmix']['surface_layer']['kpp']['langmuir_method'] = 1\n",
    "cfgs.append(copy.deepcopy(cfg))\n",
    "labels.append('KPPLT-VR12')"
   ]
  },
  {
   "cell_type": "code",
   "execution_count": 12,
   "metadata": {},
   "outputs": [],
   "source": [
    "cfg['cvmix']['surface_layer']['kpp']['langmuir_method'] = 2\n",
    "cfgs.append(copy.deepcopy(cfg))\n",
    "labels.append('KPPLT-LF17')"
   ]
  },
  {
   "cell_type": "markdown",
   "metadata": {},
   "source": [
    "Run the cases in parallel with 2 processes "
   ]
  },
  {
   "cell_type": "code",
   "execution_count": 13,
   "metadata": {},
   "outputs": [
    {
     "name": "stdout",
     "output_type": "stream",
     "text": [
      "CPU times: user 17.1 ms, sys: 13.3 ms, total: 30.5 ms\n",
      "Wall time: 7.6 s\n"
     ]
    }
   ],
   "source": [
    "%%time\n",
    "sims = m.run_batch(configs=cfgs, labels=labels, nproc=2)"
   ]
  },
  {
   "cell_type": "code",
   "execution_count": null,
   "metadata": {},
   "outputs": [],
   "source": []
  }
 ],
 "metadata": {
  "kernelspec": {
   "display_name": "Python 3",
   "language": "python",
   "name": "python3"
  },
  "language_info": {
   "codemirror_mode": {
    "name": "ipython",
    "version": 3
   },
   "file_extension": ".py",
   "mimetype": "text/x-python",
   "name": "python",
   "nbconvert_exporter": "python",
   "pygments_lexer": "ipython3",
   "version": "3.7.1"
  }
 },
 "nbformat": 4,
 "nbformat_minor": 4
}
