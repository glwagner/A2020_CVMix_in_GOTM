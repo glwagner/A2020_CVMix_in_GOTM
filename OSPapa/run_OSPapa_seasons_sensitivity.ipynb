{
 "cells": [
  {
   "cell_type": "markdown",
   "metadata": {},
   "source": [
    "# Ocean station Papa\n",
    "\n",
    "This notebook runs [GOTM](https://gotm.net/) with initial conditions and surface forcing at the [ocean station Papa](https://www.pmel.noaa.gov/ocs/Papa). See Fig. 4 of [Li et al., 2019](https://doi.org/10.1029/2019MS001810).\n",
    "\n",
    "Run the case with four turbulence closure schemes:\n",
    "\n",
    "- GLS-C01A: The generic length scale ([Umlauf and Burchard, 2003](https://doi.org/10.1357/002224003322005087)) model in the $k$-$\\epsilon$ formulation with the weak-equilibrium stability function by [Canuto et al., 2001](https://doi.org/10.1175/1520-0485(2001)031%3C1413:OTPIOP%3E2.0.CO;2) (C01A).\n",
    "\n",
    "- Three variants of KPP via [CVMix](http://cvmix.github.io):\n",
    "    - KPP-CVMix ([Large et al., 1994](https://doi.org/10.1029/94RG01872), [Griffies et al., 2015](https://github.com/CVMix/CVMix-description/raw/master/cvmix.pdf))\n",
    "    - KPPLT-VR12 ([Li et al., 2016](https://doi.org/10.1016%2Fj.ocemod.2015.07.020))\n",
    "    - KPPLT-LF17 ([Li and Fox-Kemper, 2017](https://doi.org/10.1175%2FJPO-D-17-0085.1))\n",
    "    \n",
    "Run the case with a combination of vertical resolution of [1., 5., 10.] m and time step of [60, 600, 1800] s."
   ]
  },
  {
   "cell_type": "code",
   "execution_count": 1,
   "metadata": {},
   "outputs": [],
   "source": [
    "import sys\n",
    "import copy\n",
    "import numpy as np\n",
    "import matplotlib.pyplot as plt\n",
    "# add the path of gotmtool\n",
    "sys.path.append(\"../gotmtool\")\n",
    "from gotmtool import *"
   ]
  },
  {
   "cell_type": "markdown",
   "metadata": {},
   "source": [
    "## Create a model\n",
    "Create a model with environment file `../../.gotm_env.yaml`, which is created by `gotm_env_init.py`. "
   ]
  },
  {
   "cell_type": "code",
   "execution_count": 2,
   "metadata": {},
   "outputs": [],
   "source": [
    "m = Model(name='OSPapa_sensitivity', environ='../gotmtool/.gotm_env.yaml')"
   ]
  },
  {
   "cell_type": "markdown",
   "metadata": {},
   "source": [
    "Take a look at what are defined in the environment file."
   ]
  },
  {
   "cell_type": "code",
   "execution_count": 3,
   "metadata": {},
   "outputs": [
    {
     "name": "stdout",
     "output_type": "stream",
     "text": [
      "   gotmdir_code: /Users/qingli/work/A2020_CVMix_in_GOTM/gotm/code\n",
      "   gotmdir_data: /Users/qingli/work/A2020_CVMix_in_GOTM/gotm/data\n",
      "  gotmdir_build: /Users/qingli/work/A2020_CVMix_in_GOTM/gotm/build\n",
      "    gotmdir_exe: /Users/qingli/work/A2020_CVMix_in_GOTM/gotm/exe\n",
      "    gotmdir_run: /Users/qingli/work/A2020_CVMix_in_GOTM/gotm/run\n",
      " gotmdir_figure: /Users/qingli/work/A2020_CVMix_in_GOTM/gotm/figure\n",
      "   gotmdir_tool: /Users/qingli/work/A2020_CVMix_in_GOTM/gotmtool\n"
     ]
    }
   ],
   "source": [
    "for key in m.environ:\n",
    "    print('{:>15s}: {}'.format(key, m.environ[key]) )"
   ]
  },
  {
   "cell_type": "markdown",
   "metadata": {},
   "source": [
    "## Build the model"
   ]
  },
  {
   "cell_type": "code",
   "execution_count": 4,
   "metadata": {
    "scrolled": false
   },
   "outputs": [
    {
     "name": "stdout",
     "output_type": "stream",
     "text": [
      "\u001b[94mWARNING: GOTM is updated. Skipping the build step. Use 'clean=True' to rebuild\u001b[0m\n",
      "CPU times: user 3.48 ms, sys: 9.24 ms, total: 12.7 ms\n",
      "Wall time: 81.5 ms\n"
     ]
    }
   ],
   "source": [
    "%%time\n",
    "m.build()"
   ]
  },
  {
   "cell_type": "markdown",
   "metadata": {},
   "source": [
    "## Configuration\n",
    "Initialize the GOTM configuration"
   ]
  },
  {
   "cell_type": "code",
   "execution_count": 5,
   "metadata": {},
   "outputs": [
    {
     "name": "stdout",
     "output_type": "stream",
     "text": [
      "Generating default configuration at '/Users/qingli/work/A2020_CVMix_in_GOTM/gotm/run/OSPapa_sensitivity/gotm.yaml'...\n",
      "\u001b[92mDone!\u001b[0m\n"
     ]
    }
   ],
   "source": [
    "cfg = m.init_config()"
   ]
  },
  {
   "cell_type": "markdown",
   "metadata": {},
   "source": [
    "Update the configuration"
   ]
  },
  {
   "cell_type": "code",
   "execution_count": 6,
   "metadata": {},
   "outputs": [],
   "source": [
    "# setup\n",
    "title = 'OSPapa'\n",
    "depth = 150.0\n",
    "cfg['title'] = title\n",
    "cfg['location']['name'] = 'Papa'\n",
    "cfg['location']['latitude'] = 50.1\n",
    "cfg['location']['longitude'] = -144.9\n",
    "cfg['location']['depth'] = depth\n",
    "cfg['time']['start'] = '2012-03-21 00:00:00'\n",
    "cfg['time']['stop']  = '2012-04-21 00:00:00'\n",
    "\n",
    "# output\n",
    "cfg['output']['gotm_out']['title'] = title\n",
    "cfg['output']['gotm_out']['time_unit'] = 'hour'\n",
    "cfg['output']['gotm_out']['time_step'] = 3\n",
    "\n",
    "# forcing\n",
    "datadir = os.getcwd()+'/data'\n",
    "cfg['temperature']['method'] = 2\n",
    "cfg['temperature']['file'] = datadir+'/t_prof.dat'\n",
    "cfg['salinity']['method'] = 2\n",
    "cfg['salinity']['file'] = datadir+'/s_prof.dat'\n",
    "cfg['surface']['fluxes']['heat']['method'] = 2\n",
    "cfg['surface']['fluxes']['heat']['file'] = datadir+'/heat_flux.dat'\n",
    "cfg['surface']['fluxes']['tx']['method'] = 2\n",
    "cfg['surface']['fluxes']['tx']['file'] = datadir+'/momentum_flux.dat'\n",
    "cfg['surface']['fluxes']['tx']['column'] = 1\n",
    "cfg['surface']['fluxes']['ty']['method'] = 2\n",
    "cfg['surface']['fluxes']['ty']['file'] = datadir+'/momentum_flux.dat'\n",
    "cfg['surface']['fluxes']['ty']['column'] = 2\n",
    "cfg['surface']['meteo']['u10']['method'] = 2\n",
    "cfg['surface']['meteo']['u10']['file'] = datadir+'/u10.dat'\n",
    "cfg['surface']['meteo']['u10']['column'] = 1\n",
    "cfg['surface']['meteo']['v10']['method'] = 2\n",
    "cfg['surface']['meteo']['v10']['file'] = datadir+'/u10.dat'\n",
    "cfg['surface']['meteo']['v10']['column'] = 2\n",
    "cfg['surface']['meteo']['swr']['method'] = 2\n",
    "cfg['surface']['meteo']['swr']['file'] = datadir+'/swr.dat'\n",
    "# use precipitation - evaporation\n",
    "cfg['surface']['meteo']['precip']['method'] = 2\n",
    "cfg['surface']['meteo']['precip']['scale_factor'] = -2.77778e-7\n",
    "cfg['surface']['meteo']['precip']['file'] = datadir+'/emp.dat'\n",
    "cfg['surface']['sst']['method'] = 2\n",
    "cfg['surface']['sst']['file'] = datadir+'/sst.dat'\n",
    "cfg['surface']['sss']['method'] = 2\n",
    "cfg['surface']['sss']['file'] = datadir+'/sss.dat'\n",
    "cfg['stokes_drift']['us']['method'] = 2\n",
    "cfg['stokes_drift']['us']['file'] = datadir+'/us_prof.dat'\n",
    "cfg['stokes_drift']['us']['column'] = 1\n",
    "cfg['stokes_drift']['vs']['method'] = 2\n",
    "cfg['stokes_drift']['vs']['file'] = datadir+'/us_prof.dat'\n",
    "cfg['stokes_drift']['vs']['column'] = 2\n",
    "\n",
    "# water type (Jerlov II)\n",
    "cfg['light_extinction']['method'] = 5\n",
    "\n",
    "# EOS -- use linear\n",
    "cfg['eq_state']['method'] = 4\n",
    "\n",
    "# configure GLS-C01A\n",
    "cfg['turbulence']['turb_method'] = 3\n",
    "cfg['turbulence']['tke_method'] = 2\n",
    "cfg['turbulence']['len_scale_method'] = 10\n",
    "cfg['turbulence']['scnd']['method'] =  2\n",
    "cfg['turbulence']['scnd']['scnd_coeff'] =  5\n",
    "cfg['turbulence']['turb_param']['length_lim'] = 'false'\n",
    "cfg['turbulence']['turb_param']['compute_c3'] = 'true'\n",
    "cfg['turbulence']['turb_param']['Ri_st'] = 0.25\n",
    "cfg['turbulence']['generic']['gen_m'] = 1.5 \n",
    "cfg['turbulence']['generic']['gen_n'] = -1.0\n",
    "cfg['turbulence']['generic']['gen_p'] = 3.0 \n",
    "cfg['turbulence']['generic']['cpsi1'] = 1.44\n",
    "cfg['turbulence']['generic']['cpsi2'] = 1.92\n",
    "cfg['turbulence']['generic']['cpsi3minus'] = -0.63\n",
    "cfg['turbulence']['generic']['cpsi3plus'] = 1.0 \n",
    "cfg['turbulence']['generic']['sig_kpsi'] = 1.0 \n",
    "cfg['turbulence']['generic']['sig_psi'] = 1.3"
   ]
  },
  {
   "cell_type": "markdown",
   "metadata": {},
   "source": [
    "## Run the model\n",
    "\n",
    "Here we run the Papa case in four stages, roughly representing (I) the spring stratification, (II) stable forcing in summer, (III) mixed layer entrainment in fall and winter, and (IV) preconditioning for restratification in winter.\n",
    "Each stage is run with a combination of vertical resolution of [1., 5., 10.] m and time step of [60, 600, 1800] s."
   ]
  },
  {
   "cell_type": "code",
   "execution_count": 7,
   "metadata": {},
   "outputs": [],
   "source": [
    "rundates = {\n",
    "    '2012-03-21': '2012-05-21',\n",
    "    '2012-05-21': '2012-08-21',\n",
    "    '2012-08-21': '2013-01-12',\n",
    "    '2013-01-12': '2013-03-21',\n",
    "    }"
   ]
  },
  {
   "cell_type": "markdown",
   "metadata": {},
   "source": [
    "Set the configurations and labels for each run"
   ]
  },
  {
   "cell_type": "code",
   "execution_count": 8,
   "metadata": {},
   "outputs": [],
   "source": [
    "cfgs = []\n",
    "labels = []"
   ]
  },
  {
   "cell_type": "code",
   "execution_count": 9,
   "metadata": {},
   "outputs": [
    {
     "name": "stdout",
     "output_type": "stream",
     "text": [
      "2012-03-21 -> 2012-05-21\n",
      "2012-05-21 -> 2012-08-21\n",
      "2012-08-21 -> 2013-01-12\n",
      "2013-01-12 -> 2013-03-21\n"
     ]
    }
   ],
   "source": [
    "for start in rundates.keys():\n",
    "    end = rundates[start]\n",
    "    cfg['time']['start'] = start+' 00:00:00'\n",
    "    cfg['time']['stop']  = end+' 00:00:00'\n",
    "    print('{} -> {}'.format(start, end))\n",
    "    for dz in [1., 5., 10.]:\n",
    "        nlev = int(depth/dz)\n",
    "        cfg['grid']['nlev']  = nlev\n",
    "        cfg['output']['gotm_out']['k1_stop'] = nlev+1\n",
    "        cfg['output']['gotm_out']['k_stop'] = nlev\n",
    "        for dt in [60.0, 600.0, 1800.0]:\n",
    "            cfg['time']['dt'] = dt\n",
    "            label = '_dz{:d}m_dt{:d}s_{:s}_{:s}'.format(int(dz), int(dt), start, end)\n",
    "            labels.append('GLS-C01A'+label)\n",
    "            cfg['turbulence']['turb_method'] = 3\n",
    "            cfgs.append(copy.deepcopy(cfg))\n",
    "            labels.append('KPP-CVMix'+label)\n",
    "            cfg['turbulence']['turb_method'] = 100\n",
    "            cfg['cvmix']['surface_layer']['kpp']['langmuir_method'] = 0\n",
    "            cfgs.append(copy.deepcopy(cfg))\n",
    "            labels.append('KPPLT-VR12'+label)\n",
    "            cfg['turbulence']['turb_method'] = 100\n",
    "            cfg['cvmix']['surface_layer']['kpp']['langmuir_method'] = 1\n",
    "            cfgs.append(copy.deepcopy(cfg))\n",
    "            labels.append('KPPLT-LF17'+label)\n",
    "            cfg['turbulence']['turb_method'] = 100\n",
    "            cfg['cvmix']['surface_layer']['kpp']['langmuir_method'] = 2\n",
    "            cfgs.append(copy.deepcopy(cfg))"
   ]
  },
  {
   "cell_type": "markdown",
   "metadata": {},
   "source": [
    "Run the cases in parallel with 2 processes"
   ]
  },
  {
   "cell_type": "code",
   "execution_count": 10,
   "metadata": {},
   "outputs": [
    {
     "name": "stdout",
     "output_type": "stream",
     "text": [
      "CPU times: user 387 ms, sys: 69.1 ms, total: 456 ms\n",
      "Wall time: 4min 49s\n"
     ]
    }
   ],
   "source": [
    "%%time\n",
    "sims = m.run_batch(configs=cfgs, labels=labels, nproc=2)"
   ]
  },
  {
   "cell_type": "code",
   "execution_count": null,
   "metadata": {},
   "outputs": [],
   "source": []
  }
 ],
 "metadata": {
  "kernelspec": {
   "display_name": "Python 3",
   "language": "python",
   "name": "python3"
  },
  "language_info": {
   "codemirror_mode": {
    "name": "ipython",
    "version": 3
   },
   "file_extension": ".py",
   "mimetype": "text/x-python",
   "name": "python",
   "nbconvert_exporter": "python",
   "pygments_lexer": "ipython3",
   "version": "3.7.1"
  }
 },
 "nbformat": 4,
 "nbformat_minor": 4
}
