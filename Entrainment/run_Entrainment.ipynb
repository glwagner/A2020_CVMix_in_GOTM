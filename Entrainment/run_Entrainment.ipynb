{
 "cells": [
  {
   "cell_type": "markdown",
   "metadata": {},
   "source": [
    "# Idealized entrainment\n",
    "\n",
    "This notebook runs [GOTM](https://gotm.net/) using the [entrainment](https://gotm.net/cases/entrainment/) test case, an idealized wind stress-driven entrainment case with no rotation, in which the mixed layer gradually entrains into an underlying non-turbulent region with constant stable stratification.\n",
    "\n",
    "Four turbulence closure schemes are used:\n",
    "\n",
    "- GLS-C01A: The generic length scale ([Umlauf and Burchard, 2003](https://doi.org/10.1357/002224003322005087)) model in the $k$-$\\epsilon$ formulation with the weak-equilibrium stability function by [Canuto et al., 2001](https://doi.org/10.1175/1520-0485(2001)031%3C1413:OTPIOP%3E2.0.CO;2) (C01A).\n",
    "\n",
    "- Three variants of KPP via [CVMix](http://cvmix.github.io):\n",
    "    - KPP-CVMix ([Large et al., 1994](https://doi.org/10.1029/94RG01872), [Griffies et al., 2015](https://github.com/CVMix/CVMix-description/raw/master/cvmix.pdf))\n",
    "    - KPPLT-VR12 ([Li et al., 2016](https://doi.org/10.1016%2Fj.ocemod.2015.07.020))\n",
    "    - KPPLT-LF17 ([Li and Fox-Kemper, 2017](https://doi.org/10.1175%2FJPO-D-17-0085.1))\n",
    "    \n",
    "Run the case with a combination of vertical resolution of [0.2, 1., 5.] m and time step of [6, 60, 600] s."
   ]
  },
  {
   "cell_type": "code",
   "execution_count": 1,
   "metadata": {},
   "outputs": [],
   "source": [
    "import sys\n",
    "import copy\n",
    "import numpy as np\n",
    "import matplotlib.pyplot as plt\n",
    "# add the path of gotmtool\n",
    "sys.path.append(\"../gotmtool\")\n",
    "from gotmtool import *"
   ]
  },
  {
   "cell_type": "markdown",
   "metadata": {},
   "source": [
    "## Create a model\n",
    "Create a model with environment file `../../.gotm_env.yaml`, which is created by `gotm_env_init.py`. "
   ]
  },
  {
   "cell_type": "code",
   "execution_count": 2,
   "metadata": {},
   "outputs": [],
   "source": [
    "m = Model(name='Entrainment', environ='../gotmtool/.gotm_env.yaml')"
   ]
  },
  {
   "cell_type": "markdown",
   "metadata": {},
   "source": [
    "Take a look at what are defined in the environment file."
   ]
  },
  {
   "cell_type": "code",
   "execution_count": 3,
   "metadata": {},
   "outputs": [
    {
     "name": "stdout",
     "output_type": "stream",
     "text": [
      "   gotmdir_code: /Users/qingli/work/A2020_CVMix_in_GOTM/gotm/code\n",
      "   gotmdir_data: /Users/qingli/work/A2020_CVMix_in_GOTM/gotm/data\n",
      "  gotmdir_build: /Users/qingli/work/A2020_CVMix_in_GOTM/gotm/build\n",
      "    gotmdir_exe: /Users/qingli/work/A2020_CVMix_in_GOTM/gotm/exe\n",
      "    gotmdir_run: /Users/qingli/work/A2020_CVMix_in_GOTM/gotm/run\n",
      " gotmdir_figure: /Users/qingli/work/A2020_CVMix_in_GOTM/gotm/figure\n",
      "   gotmdir_tool: /Users/qingli/work/A2020_CVMix_in_GOTM/gotmtool\n"
     ]
    }
   ],
   "source": [
    "for key in m.environ:\n",
    "    print('{:>15s}: {}'.format(key, m.environ[key]) )"
   ]
  },
  {
   "cell_type": "markdown",
   "metadata": {},
   "source": [
    "## Build the model"
   ]
  },
  {
   "cell_type": "code",
   "execution_count": 4,
   "metadata": {},
   "outputs": [
    {
     "name": "stdout",
     "output_type": "stream",
     "text": [
      "\u001b[94mWARNING: GOTM is updated. Skipping the build step. Use 'clean=True' to rebuild\u001b[0m\n",
      "CPU times: user 3.09 ms, sys: 9.25 ms, total: 12.3 ms\n",
      "Wall time: 82.1 ms\n"
     ]
    }
   ],
   "source": [
    "%%time\n",
    "m.build()"
   ]
  },
  {
   "cell_type": "markdown",
   "metadata": {},
   "source": [
    "## Configuration\n",
    "Initialize the GOTM configuration"
   ]
  },
  {
   "cell_type": "code",
   "execution_count": 5,
   "metadata": {},
   "outputs": [
    {
     "name": "stdout",
     "output_type": "stream",
     "text": [
      "Generating default configuration at '/Users/qingli/work/A2020_CVMix_in_GOTM/gotm/run/Entrainment/gotm.yaml'...\n",
      "\u001b[92mDone!\u001b[0m\n"
     ]
    }
   ],
   "source": [
    "cfg = m.init_config()"
   ]
  },
  {
   "cell_type": "markdown",
   "metadata": {},
   "source": [
    "Update the configuration"
   ]
  },
  {
   "cell_type": "code",
   "execution_count": 6,
   "metadata": {},
   "outputs": [],
   "source": [
    "# setup\n",
    "title = 'Shear-driven Entrainment'\n",
    "depth = 50.0\n",
    "cfg['title'] = title\n",
    "cfg['location']['name'] = 'equator'\n",
    "cfg['location']['latitude'] = 0.0\n",
    "cfg['location']['longitude'] = 0.0\n",
    "cfg['location']['depth'] = depth\n",
    "cfg['time']['start'] = '2005-01-01 00:00:00'\n",
    "cfg['time']['stop']  = '2005-01-02 06:00:00'\n",
    "\n",
    "# output\n",
    "cfg['output']['gotm_out']['title'] = title\n",
    "cfg['output']['gotm_out']['time_unit'] = 'second'\n",
    "cfg['output']['gotm_out']['time_step'] = 1800\n",
    "\n",
    "# forcing\n",
    "cfg['temperature']['method'] = 'buoyancy'\n",
    "cfg['temperature']['two_layer']['t_s'] = 20.0\n",
    "cfg['temperature']['NN'] = 1e-4\n",
    "cfg['salinity']['method'] = 'constant'\n",
    "cfg['salinity']['constant_value'] = 35.0\n",
    "cfg['surface']['fluxes']['method'] = 'off'\n",
    "cfg['surface']['fluxes']['heat']['method'] = 'constant'\n",
    "# since KPPLT-LF17 only use the Langmuir enhanced entrainment\n",
    "# under destabilizing conditions, use a small destabilizing heat\n",
    "# flux to activate it\n",
    "cfg['surface']['fluxes']['heat']['constant_value'] = -1.0e-12 \n",
    "cfg['surface']['fluxes']['tx']['method'] = 'constant'\n",
    "cfg['surface']['fluxes']['tx']['constant_value'] = 1.0e-1\n",
    "cfg['surface']['fluxes']['ty']['method'] = 'constant'\n",
    "cfg['surface']['fluxes']['ty']['constant_value'] = 0.0\n",
    "\n",
    "cfg['waves']['stokes_drift']['us']['method'] = 'exponential'\n",
    "cfg['waves']['stokes_drift']['vs']['method'] = 'exponential'\n",
    "cfg['waves']['stokes_drift']['exponential']['us0']['method'] = 'constant'\n",
    "cfg['waves']['stokes_drift']['exponential']['us0']['constant_value'] = 0.111\n",
    "cfg['waves']['stokes_drift']['exponential']['vs0']['method'] = 'constant'\n",
    "cfg['waves']['stokes_drift']['exponential']['vs0']['constant_value'] = 0.0\n",
    "cfg['waves']['stokes_drift']['exponential']['ds']['method'] = 'constant'\n",
    "cfg['waves']['stokes_drift']['exponential']['ds']['constant_value'] = 5.0\n",
    "\n",
    "# EOS \n",
    "cfg['eq_state']['method'] = 'unesco'\n",
    "cfg['eq_state']['form'] = 'full-pot'\n",
    "\n",
    "# buoyancy\n",
    "cfg['buoyancy']['NN_ini'] = 1.0e-4\n",
    "\n",
    "# configure GLS-C01A\n",
    "cfg['turbulence']['turb_method'] = 'second_order'\n",
    "cfg['turbulence']['tke_method'] = 'tke'\n",
    "cfg['turbulence']['len_scale_method'] = 'gls'\n",
    "cfg['turbulence']['scnd']['method'] =  'weak_eq_kb_eq'\n",
    "cfg['turbulence']['scnd']['scnd_coeff'] =  'canuto-a'\n",
    "cfg['turbulence']['turb_param']['length_lim'] = 'false'\n",
    "cfg['turbulence']['turb_param']['compute_c3'] = 'true'\n",
    "cfg['turbulence']['turb_param']['Ri_st'] = 0.25\n",
    "cfg['turbulence']['generic']['gen_m'] = 1.5 \n",
    "cfg['turbulence']['generic']['gen_n'] = -1.0\n",
    "cfg['turbulence']['generic']['gen_p'] = 3.0 \n",
    "cfg['turbulence']['generic']['cpsi1'] = 1.44\n",
    "cfg['turbulence']['generic']['cpsi2'] = 1.92\n",
    "cfg['turbulence']['generic']['cpsi3minus'] = -0.63\n",
    "cfg['turbulence']['generic']['cpsi3plus'] = 1.0 \n",
    "cfg['turbulence']['generic']['sig_kpsi'] = 1.0 \n",
    "cfg['turbulence']['generic']['sig_psi'] = 1.3"
   ]
  },
  {
   "cell_type": "markdown",
   "metadata": {},
   "source": [
    "## Run the model"
   ]
  },
  {
   "cell_type": "markdown",
   "metadata": {},
   "source": [
    "Set the configurations and labels for each run"
   ]
  },
  {
   "cell_type": "code",
   "execution_count": 7,
   "metadata": {},
   "outputs": [],
   "source": [
    "cfgs = []\n",
    "labels = []"
   ]
  },
  {
   "cell_type": "code",
   "execution_count": 8,
   "metadata": {},
   "outputs": [],
   "source": [
    "for dz in [0.2, 1., 5.]:\n",
    "    nlev = int(depth/dz)\n",
    "    cfg['grid']['nlev']  = nlev\n",
    "    cfg['output']['gotm_out']['k1_stop'] = nlev+1\n",
    "    cfg['output']['gotm_out']['k_stop'] = nlev\n",
    "    for dt in [6.0, 60.0, 600.0]:\n",
    "        nt = int(30.*3600/dt)\n",
    "        cfg['time']['dt'] = dt\n",
    "        label = '_Nz{:d}_Nt{:d}'.format(nlev, nt)\n",
    "        cfg['turbulence']['turb_method'] = 'second_order'\n",
    "        cfgs.append(copy.deepcopy(cfg))\n",
    "        labels.append('GLS-C01A'+label)\n",
    "        cfg['turbulence']['turb_method'] = 'cvmix'\n",
    "        cfg['cvmix']['surface_layer']['kpp']['langmuir_method'] = 'none'\n",
    "        cfgs.append(copy.deepcopy(cfg))\n",
    "        labels.append('KPP-CVMix'+label)\n",
    "        cfg['cvmix']['surface_layer']['kpp']['langmuir_method'] = 'lwf16'\n",
    "        cfgs.append(copy.deepcopy(cfg))\n",
    "        labels.append('KPPLT-VR12'+label)\n",
    "        cfg['cvmix']['surface_layer']['kpp']['langmuir_method'] = 'lf17'\n",
    "        cfgs.append(copy.deepcopy(cfg))\n",
    "        labels.append('KPPLT-LF17'+label)"
   ]
  },
  {
   "cell_type": "markdown",
   "metadata": {},
   "source": [
    "Run the cases in parallel with 2 processes "
   ]
  },
  {
   "cell_type": "code",
   "execution_count": 9,
   "metadata": {},
   "outputs": [
    {
     "name": "stdout",
     "output_type": "stream",
     "text": [
      "CPU times: user 61 ms, sys: 24.1 ms, total: 85.1 ms\n",
      "Wall time: 12.3 s\n"
     ]
    }
   ],
   "source": [
    "%%time\n",
    "sims = m.run_batch(configs=cfgs, labels=labels, nproc=2)"
   ]
  },
  {
   "cell_type": "code",
   "execution_count": null,
   "metadata": {},
   "outputs": [],
   "source": []
  }
 ],
 "metadata": {
  "kernelspec": {
   "display_name": "Python 3",
   "language": "python",
   "name": "python3"
  },
  "language_info": {
   "codemirror_mode": {
    "name": "ipython",
    "version": 3
   },
   "file_extension": ".py",
   "mimetype": "text/x-python",
   "name": "python",
   "nbconvert_exporter": "python",
   "pygments_lexer": "ipython3",
   "version": "3.7.8"
  }
 },
 "nbformat": 4,
 "nbformat_minor": 4
}
