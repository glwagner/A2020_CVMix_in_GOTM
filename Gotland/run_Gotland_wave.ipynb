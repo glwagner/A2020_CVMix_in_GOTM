{
 "cells": [
  {
   "cell_type": "markdown",
   "metadata": {},
   "source": [
    "# Gotland\n",
    "\n",
    "This notebook runs [GOTM](https://gotm.net/) using the [Gotland deep](https://gotm.net/cases/gotland_deep/) test case. \n",
    "\n",
    "Run the case with four turbulence closure schemes:\n",
    "\n",
    "- GLS-C01A: The generic length scale ([Umlauf and Burchard, 2003](https://doi.org/10.1357/002224003322005087)) model in the $k$-$\\epsilon$ formulation with the weak-equilibrium stability function by [Canuto et al., 2001](https://doi.org/10.1175/1520-0485(2001)031%3C1413:OTPIOP%3E2.0.CO;2) (C01A).\n",
    "\n",
    "- Three variants of KPP via [CVMix](http://cvmix.github.io):\n",
    "    - KPP-CVMix ([Large et al., 1994](https://doi.org/10.1029/94RG01872), [Griffies et al., 2015](https://github.com/CVMix/CVMix-description/raw/master/cvmix.pdf))\n",
    "    - KPPLT-VR12 ([Li et al., 2016](https://doi.org/10.1016%2Fj.ocemod.2015.07.020))\n",
    "    - KPPLT-LF17 ([Li and Fox-Kemper, 2017](https://doi.org/10.1175%2FJPO-D-17-0085.1))\n",
    "    \n",
    "Stokes drift profiles are computed in a similar way as in [Li et al., 2017](https://doi.org/10.1016/j.ocemod.2017.03.016), with constraints of wave variables from a wave hindcase simulation."
   ]
  },
  {
   "cell_type": "code",
   "execution_count": 1,
   "metadata": {},
   "outputs": [],
   "source": [
    "import sys\n",
    "import copy\n",
    "import numpy as np\n",
    "import matplotlib.pyplot as plt\n",
    "# add the path of gotmtool\n",
    "sys.path.append(\"../gotmtool\")\n",
    "from gotmtool import *"
   ]
  },
  {
   "cell_type": "markdown",
   "metadata": {},
   "source": [
    "## Create a model\n",
    "Create a model with environment file `../../.gotm_env.yaml`, which is created by `gotm_env_init.py`. "
   ]
  },
  {
   "cell_type": "code",
   "execution_count": 2,
   "metadata": {},
   "outputs": [],
   "source": [
    "m = Model(name='Gotland_wave', environ='../gotmtool/.gotm_env.yaml')"
   ]
  },
  {
   "cell_type": "markdown",
   "metadata": {},
   "source": [
    "Take a look at what are defined in the environment file."
   ]
  },
  {
   "cell_type": "code",
   "execution_count": 3,
   "metadata": {},
   "outputs": [
    {
     "name": "stdout",
     "output_type": "stream",
     "text": [
      "   gotmdir_code: /Users/qingli/work/A2020_CVMix_in_GOTM/gotm/code\n",
      "   gotmdir_data: /Users/qingli/work/A2020_CVMix_in_GOTM/gotm/data\n",
      "  gotmdir_build: /Users/qingli/work/A2020_CVMix_in_GOTM/gotm/build\n",
      "    gotmdir_exe: /Users/qingli/work/A2020_CVMix_in_GOTM/gotm/exe\n",
      "    gotmdir_run: /Users/qingli/work/A2020_CVMix_in_GOTM/gotm/run\n",
      " gotmdir_figure: /Users/qingli/work/A2020_CVMix_in_GOTM/gotm/figure\n",
      "   gotmdir_tool: /Users/qingli/work/A2020_CVMix_in_GOTM/gotmtool\n"
     ]
    }
   ],
   "source": [
    "for key in m.environ:\n",
    "    print('{:>15s}: {}'.format(key, m.environ[key]) )"
   ]
  },
  {
   "cell_type": "markdown",
   "metadata": {},
   "source": [
    "## Build the model"
   ]
  },
  {
   "cell_type": "code",
   "execution_count": 4,
   "metadata": {},
   "outputs": [
    {
     "name": "stdout",
     "output_type": "stream",
     "text": [
      "\u001b[94mWARNING: GOTM is updated. Skipping the build step. Use 'clean=True' to rebuild\u001b[0m\n",
      "CPU times: user 3.11 ms, sys: 8.5 ms, total: 11.6 ms\n",
      "Wall time: 78.7 ms\n"
     ]
    }
   ],
   "source": [
    "%%time\n",
    "m.build()"
   ]
  },
  {
   "cell_type": "markdown",
   "metadata": {},
   "source": [
    "## Configuration\n",
    "Initialize the GOTM configuration"
   ]
  },
  {
   "cell_type": "code",
   "execution_count": 5,
   "metadata": {},
   "outputs": [
    {
     "name": "stdout",
     "output_type": "stream",
     "text": [
      "Generating default configuration at '/Users/qingli/work/A2020_CVMix_in_GOTM/gotm/run/Gotland_wave/gotm.yaml'...\n",
      "\u001b[92mDone!\u001b[0m\n"
     ]
    }
   ],
   "source": [
    "cfg = m.init_config()"
   ]
  },
  {
   "cell_type": "markdown",
   "metadata": {},
   "source": [
    "Update the configuration"
   ]
  },
  {
   "cell_type": "code",
   "execution_count": 6,
   "metadata": {},
   "outputs": [],
   "source": [
    "# setup\n",
    "title = 'Gotland Basin'\n",
    "nlev = 250\n",
    "cfg['title'] = title\n",
    "cfg['location']['name'] = 'Station 271'\n",
    "cfg['location']['latitude'] = 57.3\n",
    "cfg['location']['longitude'] = 20.0\n",
    "cfg['location']['depth'] = 250.0\n",
    "cfg['time']['start'] = '1997-01-01 00:00:00'\n",
    "cfg['time']['stop']  = '2002-01-01 00:00:00'\n",
    "cfg['time']['dt']    = 600.0\n",
    "cfg['grid']['nlev']  = nlev\n",
    "cfg['grid']['ddu']   = 0.0\n",
    "\n",
    "# output\n",
    "cfg['output']['gotm_out']['title'] = title\n",
    "cfg['output']['gotm_out']['k1_stop'] = nlev+1\n",
    "cfg['output']['gotm_out']['k_stop'] = nlev\n",
    "cfg['output']['gotm_out']['time_unit'] = 'day'\n",
    "cfg['output']['gotm_out']['time_step'] = 1\n",
    "\n",
    "# forcing\n",
    "datadir = os.getcwd()+'/data'\n",
    "cfg['temperature']['method'] = 2\n",
    "cfg['temperature']['file'] = datadir+'/t_prof.dat'\n",
    "cfg['salinity']['method'] = 2\n",
    "cfg['salinity']['file'] = datadir+'/s_prof.dat'\n",
    "cfg['salinity']['relax']['tau'] = 4320000.0\n",
    "cfg['salinity']['relax']['tau_s'] = 4320000.0\n",
    "cfg['salinity']['relax']['tau_b'] = 4320000.0\n",
    "cfg['surface']['fluxes']['method'] = 1\n",
    "cfg['surface']['meteo']['u10']['method'] = 2\n",
    "cfg['surface']['meteo']['u10']['file'] = datadir+'/meteo.dat'\n",
    "cfg['surface']['meteo']['u10']['column'] = 1\n",
    "cfg['surface']['meteo']['u10']['scale_factor'] = 1.0\n",
    "cfg['surface']['meteo']['v10']['method'] = 2\n",
    "cfg['surface']['meteo']['v10']['file'] = datadir+'/meteo.dat'\n",
    "cfg['surface']['meteo']['v10']['column'] = 2\n",
    "cfg['surface']['meteo']['v10']['scale_factor'] = 1.0\n",
    "cfg['surface']['meteo']['airp']['method'] = 2\n",
    "cfg['surface']['meteo']['airp']['file'] = datadir+'/meteo.dat'\n",
    "cfg['surface']['meteo']['airp']['column'] = 3\n",
    "cfg['surface']['meteo']['airp']['scale_factor'] = 1.0\n",
    "cfg['surface']['meteo']['airt']['method'] = 2\n",
    "cfg['surface']['meteo']['airt']['file'] = datadir+'/meteo.dat'\n",
    "cfg['surface']['meteo']['airt']['column'] = 4\n",
    "cfg['surface']['meteo']['airt']['scale_factor'] = 1.0\n",
    "cfg['surface']['meteo']['hum']['method'] = 2\n",
    "cfg['surface']['meteo']['hum']['file'] = datadir+'/meteo.dat'\n",
    "cfg['surface']['meteo']['hum']['column'] = 5\n",
    "cfg['surface']['meteo']['hum']['scale_factor'] = 1.0\n",
    "cfg['surface']['meteo']['hum']['type'] = 1\n",
    "cfg['surface']['meteo']['cloud']['method'] = 2\n",
    "cfg['surface']['meteo']['cloud']['file'] = datadir+'/meteo.dat'\n",
    "cfg['surface']['meteo']['cloud']['column'] = 6\n",
    "cfg['surface']['meteo']['cloud']['scale_factor'] = 1.0\n",
    "cfg['surface']['meteo']['swr']['method'] = 3\n",
    "cfg['surface']['meteo']['precip']['method'] = 2\n",
    "cfg['surface']['meteo']['precip']['file'] = datadir+'/precip.dat'\n",
    "\n",
    "# Stokes drift\n",
    "cfg['stokes_drift']['us']['method'] = 2\n",
    "cfg['stokes_drift']['us']['file'] = datadir+'/us_prof.dat'\n",
    "cfg['stokes_drift']['us']['column'] = 1\n",
    "cfg['stokes_drift']['vs']['method'] = 2\n",
    "cfg['stokes_drift']['vs']['file'] = datadir+'/us_prof.dat'\n",
    "cfg['stokes_drift']['vs']['column'] = 2\n",
    "\n",
    "\n",
    "# water type\n",
    "cfg['light_extinction']['method'] = 7\n",
    "cfg['light_extinction']['A']['method'] = 0\n",
    "cfg['light_extinction']['A']['constant_value'] = 0.4\n",
    "cfg['light_extinction']['g1']['method'] = 0\n",
    "cfg['light_extinction']['g1']['constant_value'] = 3\n",
    "cfg['light_extinction']['g2']['method'] = 0\n",
    "cfg['light_extinction']['g2']['constant_value'] = 15.7\n",
    "\n",
    "# EOS \n",
    "cfg['eq_state']['mode'] = 2\n",
    "cfg['eq_state']['method'] = 2\n",
    "\n",
    "# buoyancy\n",
    "cfg['buoyancy']['NN_ini'] = 1.0e-4"
   ]
  },
  {
   "cell_type": "markdown",
   "metadata": {},
   "source": [
    "## Run the model\n",
    "\n",
    "Set the configurations and labels for each run"
   ]
  },
  {
   "cell_type": "code",
   "execution_count": 7,
   "metadata": {},
   "outputs": [],
   "source": [
    "cfgs = []\n",
    "labels = []"
   ]
  },
  {
   "cell_type": "code",
   "execution_count": 8,
   "metadata": {},
   "outputs": [],
   "source": [
    "cfg['turbulence']['turb_method'] = 3\n",
    "cfg['turbulence']['tke_method'] = 2\n",
    "cfg['turbulence']['len_scale_method'] = 10\n",
    "cfg['turbulence']['scnd']['method'] =  2\n",
    "cfg['turbulence']['scnd']['scnd_coeff'] =  5\n",
    "cfg['turbulence']['turb_param']['length_lim'] = 'false'\n",
    "cfg['turbulence']['turb_param']['compute_c3'] = 'true'\n",
    "cfg['turbulence']['turb_param']['Ri_st'] = 0.25\n",
    "cfg['turbulence']['generic']['gen_m'] = 1.5 \n",
    "cfg['turbulence']['generic']['gen_n'] = -1.0\n",
    "cfg['turbulence']['generic']['gen_p'] = 3.0 \n",
    "cfg['turbulence']['generic']['cpsi1'] = 1.44\n",
    "cfg['turbulence']['generic']['cpsi2'] = 1.92\n",
    "cfg['turbulence']['generic']['cpsi3minus'] = -0.63\n",
    "cfg['turbulence']['generic']['cpsi3plus'] = 1.0 \n",
    "cfg['turbulence']['generic']['sig_kpsi'] = 1.0 \n",
    "cfg['turbulence']['generic']['sig_psi'] = 1.3\n",
    "cfgs.append(copy.deepcopy(cfg))\n",
    "labels.append('GLS-C01A')"
   ]
  },
  {
   "cell_type": "code",
   "execution_count": 9,
   "metadata": {},
   "outputs": [],
   "source": [
    "cfg['turbulence']['turb_method'] = 100\n",
    "cfgs.append(copy.deepcopy(cfg))\n",
    "labels.append('KPP-CVMix')"
   ]
  },
  {
   "cell_type": "code",
   "execution_count": 10,
   "metadata": {},
   "outputs": [],
   "source": [
    "cfg['cvmix']['surface_layer']['kpp']['langmuir_method'] = 1\n",
    "cfgs.append(copy.deepcopy(cfg))\n",
    "labels.append('KPPLT-VR12')"
   ]
  },
  {
   "cell_type": "code",
   "execution_count": 11,
   "metadata": {},
   "outputs": [],
   "source": [
    "cfg['cvmix']['surface_layer']['kpp']['langmuir_method'] = 2\n",
    "cfgs.append(copy.deepcopy(cfg))\n",
    "labels.append('KPPLT-LF17')"
   ]
  },
  {
   "cell_type": "markdown",
   "metadata": {},
   "source": [
    "Run the three cases in parallel with 2 processes "
   ]
  },
  {
   "cell_type": "code",
   "execution_count": 12,
   "metadata": {},
   "outputs": [
    {
     "name": "stdout",
     "output_type": "stream",
     "text": [
      "CPU times: user 63.6 ms, sys: 24.7 ms, total: 88.3 ms\n",
      "Wall time: 1min 58s\n"
     ]
    }
   ],
   "source": [
    "%%time\n",
    "sims = m.run_batch(configs=cfgs, labels=labels, nproc=2)"
   ]
  },
  {
   "cell_type": "code",
   "execution_count": null,
   "metadata": {},
   "outputs": [],
   "source": []
  }
 ],
 "metadata": {
  "kernelspec": {
   "display_name": "Python 3",
   "language": "python",
   "name": "python3"
  },
  "language_info": {
   "codemirror_mode": {
    "name": "ipython",
    "version": 3
   },
   "file_extension": ".py",
   "mimetype": "text/x-python",
   "name": "python",
   "nbconvert_exporter": "python",
   "pygments_lexer": "ipython3",
   "version": "3.7.1"
  }
 },
 "nbformat": 4,
 "nbformat_minor": 4
}
